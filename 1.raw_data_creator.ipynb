{
 "cells": [
  {
   "cell_type": "code",
   "execution_count": 4,
   "metadata": {},
   "outputs": [],
   "source": [
    "import pandas as pd\n",
    "import matplotlib.pyplot as plt\n",
    "\n",
    "%matplotlib inline\n",
    "import numpy as np\n",
    "\n",
    "import datetime\n",
    "import os\n",
    "import glob\n",
    "\n",
    "import ipywidgets as widgets\n",
    "# interact, \n",
    "from ipywidgets import Output\n",
    "from IPython.display import display\n",
    "import matplotlib.dates as mdates"
   ]
  },
  {
   "cell_type": "code",
   "execution_count": null,
   "metadata": {},
   "outputs": [],
   "source": [
    "pd.set_option('display.max_columns', 200)\n",
    "pd.set_option('display.max_rows', 100)\n",
    "pd.set_option('display.min_rows', 100)\n",
    "pd.set_option('display.expand_frame_repr', True)\n"
   ]
  },
  {
   "cell_type": "markdown",
   "metadata": {},
   "source": [
    "### Format dispatch data"
   ]
  },
  {
   "cell_type": "code",
   "execution_count": null,
   "metadata": {},
   "outputs": [],
   "source": [
    "# Read the DUID energy mapping file\n",
    "duid = pd.read_csv('data/duid.csv')"
   ]
  },
  {
   "cell_type": "code",
   "execution_count": null,
   "metadata": {},
   "outputs": [],
   "source": [
    "# Merge each of the dispatch data with DUID energy mapping\n",
    "dispatch_data = 'PUBLIC_DVD_DISPATCH_UNIT_SCADA'\n",
    "fpaths = glob.glob('data/formatted/{}*.csv'.format(dispatch_data))\n",
    "fpaths.sort()\n",
    "for fpath in fpaths:\n",
    "    print(\"Processing \" + fpath)\n",
    "    df = pd.read_csv(fpath)\n",
    "    df.columns = map(str.lower, df.columns)\n",
    "    df = df.drop_duplicates()\n",
    "\n",
    "    # Merge with DUID csv file to map DUID to respective energy\n",
    "    df = pd.merge(df, duid, on='duid', how='left', suffixes=(False, False))\n",
    "    df.loc[df.fuel.isna(), 'fuel'] = 'none'\n",
    "    df.loc[df.region.isna(), 'region'] = df[df.region.isna()]['duid'].str.split('_', expand=True)[1]\n",
    "    df['datetime'] = pd.to_datetime(df['settlementdate'] + ' ' + df['settlementtime'])\n",
    "    df = df.set_index('datetime')\n",
    "    df = df.sort_values(by=['region', 'fuel', 'datetime'])\n",
    "    df = df.reset_index()\n",
    "    df.to_csv('data/formatted/{}'.format(os.path.basename(fpath)), index=False)"
   ]
  },
  {
   "cell_type": "code",
   "execution_count": null,
   "metadata": {},
   "outputs": [],
   "source": [
    "# Merge dispatch 30 M of individual years to single dispatch file\n",
    "# Starting few rows of each year are appended at the end of the previous year, so while averaging we need to take that into account\n",
    "final = None\n",
    "subset_df = None\n",
    "\n",
    "def check_years(year_arr, match_year):\n",
    "    if len(year_arr) == 1 and year_arr[0] == match_year:\n",
    "        return True\n",
    "    else:\n",
    "        return False\n",
    "    \n",
    "for year in range(2010, 2021):\n",
    "    fpath = 'data/formatted/PUBLIC_DVD_DISPATCH_UNIT_SCADA_{}.csv'.format(year)\n",
    "    print(\"Processing \" + fpath)\n",
    "    df = pd.read_csv(fpath)\n",
    "    df.columns = map(str.lower, df.columns)\n",
    "    df = df.drop_duplicates()\n",
    "\n",
    "    df['datetime'] = pd.to_datetime(df['settlementdate'] + ' ' + df['settlementtime'])\n",
    "    df['datetime'] = pd.to_datetime(df['datetime'], errors='coerce')\n",
    "    df['year'] = df.datetime.dt.year\n",
    "    # Divide dispatch by 12 to get MWh\n",
    "    df['scadavalue'] = df['scadavalue'].apply(lambda x: x / 12.0) \n",
    "\n",
    "    # filter values that are not in current year file\n",
    "    if subset_df is not None:\n",
    "        print('Merging subset df')\n",
    "        print(subset_df['year'].unique())\n",
    "        if check_years(subset_df['year'].unique(), year):\n",
    "            df = pd.concat([subset_df, df])\n",
    "            df = df.drop_duplicates()\n",
    "            subset_df = None\n",
    "        else:\n",
    "            raise ValueError\n",
    "        \n",
    "    subset_df = df[~(df.year == year)]\n",
    "    df = df[(df.year == year)]\n",
    "    if subset_df.shape[0] == 0:\n",
    "        print('setting subset df shape to zero')\n",
    "        subset_df = None\n",
    "\n",
    "    if year == 2016:\n",
    "        df.loc[(df.datetime.dt.year == 2016) & \\\n",
    "          (df.fuel == 'solar') & \\\n",
    "          (df.scadavalue > 90),'solar'] = np.nan\n",
    "        \n",
    "    df = df.sort_values(by=['region', 'fuel', 'datetime'])\n",
    "    df = df.set_index(['datetime'])\n",
    "    #'30T'\n",
    "    #df = df.groupby(['region', 'fuel'])['scadavalue'].resample('D').apply(lambda x:np.trapz(x, dx = 1/12)).reset_index()\n",
    "    # Sum the demand for the day\n",
    "    df = df.groupby(['region', 'fuel'])['scadavalue'].resample('D').sum()\n",
    "    df = df.reset_index()\n",
    "\n",
    "    #df.to_csv('data/formatted/test/{}'.format(os.path.basename(fpath)), index=False)\n",
    "    if final is None:\n",
    "        final = df\n",
    "    else:\n",
    "        final = pd.concat([final, df])\n",
    "\n",
    "# save as a single dispatch data file with dispatch data per day\n",
    "final.to_csv('data/dispatch.csv', index=False)"
   ]
  },
  {
   "cell_type": "markdown",
   "metadata": {},
   "source": [
    "### Format trading price"
   ]
  },
  {
   "cell_type": "code",
   "execution_count": null,
   "metadata": {},
   "outputs": [],
   "source": [
    "# Merge trading price 30 M of individual years to single trading price file\n",
    "price_data = 'PUBLIC_DVD_TRADINGPRICE'\n",
    "fpaths = glob.glob('data/formatted/{}*.csv'.format(price_data))\n",
    "fpaths.sort()\n",
    "final = None\n",
    "for fpath in fpaths:\n",
    "    print(\"Processing \" + fpath)\n",
    "    df = pd.read_csv(fpath)\n",
    "    df.columns = map(str.lower, df.columns)\n",
    "    df = df.drop_duplicates()\n",
    "\n",
    "    df['datetime'] = pd.to_datetime(df['settlementdate'] + ' ' + df['settlementtime'])\n",
    "    df['datetime'] = pd.to_datetime(df['datetime'], errors='coerce')\n",
    "    df = df.sort_values(by=['regionid', 'datetime'])\n",
    "    df = df.drop(columns=['settlementdate', 'settlementtime'])\n",
    "    if final is None:\n",
    "        final = df\n",
    "    else:\n",
    "        final = pd.concat([final, df])\n",
    "final = final.drop_duplicates()\n",
    "final.columns = ['region', 'rrp', 'datetime']\n",
    "final = final.set_index(['datetime'])\n",
    "final = final.groupby(['region'])['rrp'].resample('D').mean().reset_index() \n",
    "# save as a single trading price data file with price data per day\n",
    "final.to_csv('data/trading_price.csv', index=False)"
   ]
  },
  {
   "cell_type": "markdown",
   "metadata": {},
   "source": [
    "### Format demand data"
   ]
  },
  {
   "cell_type": "code",
   "execution_count": 2,
   "metadata": {},
   "outputs": [
    {
     "name": "stdout",
     "output_type": "stream",
     "text": [
      "Processing data/formatted/PUBLIC_DVD_TRADINGREGIONSUM_2010.csv\n",
      "Processing data/formatted/PUBLIC_DVD_TRADINGREGIONSUM_2011.csv\n",
      "Processing data/formatted/PUBLIC_DVD_TRADINGREGIONSUM_2012.csv\n",
      "Processing data/formatted/PUBLIC_DVD_TRADINGREGIONSUM_2013.csv\n",
      "Processing data/formatted/PUBLIC_DVD_TRADINGREGIONSUM_2014.csv\n",
      "Processing data/formatted/PUBLIC_DVD_TRADINGREGIONSUM_2015.csv\n",
      "Processing data/formatted/PUBLIC_DVD_TRADINGREGIONSUM_2016.csv\n",
      "Processing data/formatted/PUBLIC_DVD_TRADINGREGIONSUM_2017.csv\n",
      "Processing data/formatted/PUBLIC_DVD_TRADINGREGIONSUM_2018.csv\n",
      "Processing data/formatted/PUBLIC_DVD_TRADINGREGIONSUM_2019.csv\n",
      "Processing data/formatted/PUBLIC_DVD_TRADINGREGIONSUM_2020.csv\n"
     ]
    }
   ],
   "source": [
    "# Create demand data\n",
    "# Merge 30 M demand data of individual years to single demand file\n",
    "demand_data = 'PUBLIC_DVD_TRADINGREGIONSUM'\n",
    "# demand_data = 'PUBLIC_DVD_DISPATCHREGIONSUM'\n",
    "fpaths = glob.glob('data/formatted/{}*.csv'.format(demand_data))\n",
    "fpaths.sort()\n",
    "demand = None\n",
    "for fpath in fpaths:\n",
    "    print(\"Processing \" + fpath)\n",
    "    df = pd.read_csv(fpath)\n",
    "    df.columns = map(str.lower, df.columns)\n",
    "\n",
    "    df['datetime'] = pd.to_datetime(df['settlementdate'] + ' ' + df['settlementtime'])\n",
    "    df['datetime'] = pd.to_datetime(df['datetime'], errors='coerce')\n",
    "    df = df.sort_values(by=['regionid', 'datetime'])\n",
    "    # Calculate total demand (not include dispatchable load)\n",
    "    df['demand'] = df['totaldemand'] + df['totalintermittentgeneration'] #+ df['dispatchableload']\n",
    "    \n",
    "    if demand is None:\n",
    "        demand = df\n",
    "    else:\n",
    "        demand = pd.concat([demand, df])\n",
    "\n",
    "demand = demand.drop_duplicates()\n",
    "# 30 M interval divide by 2 to get MWh\n",
    "demand.loc[:,'demand'] = demand['demand']/2\n",
    "demand = demand.sort_values(by=['regionid', 'datetime'])\n",
    "demand = demand.set_index(['datetime'])\n",
    "demand = demand.groupby(['regionid'])['demand'].resample('D').sum().reset_index()\n",
    "\n",
    "demand.columns = ['region', 'datetime', 'demand']\n",
    "\n",
    "# save as a single demand data file with demand per day\n",
    "demand.to_csv('data/demand.csv', index=False)"
   ]
  },
  {
   "cell_type": "markdown",
   "metadata": {},
   "source": [
    "### Add solar rooftop"
   ]
  },
  {
   "cell_type": "code",
   "execution_count": 26,
   "metadata": {},
   "outputs": [],
   "source": [
    "df = pd.read_csv('data/rooftop_solar.csv')\n",
    "df.columns = map(str.lower, df.columns)\n",
    "# errors='coerce'\n",
    "df['datetime'] = pd.to_datetime(df['settlementdate'])\n",
    "df = df[df.datetime < pd.to_datetime('2020-10-01', format='%Y-%m-%d', errors='ignore')]\n",
    "df = df.drop(columns = ['settlementdate'])\n",
    "df.columns = ['region', 'scadavalue', 'datetime']\n",
    "df = df.drop_duplicates()\n",
    "df = df.set_index(['datetime'])\n",
    "# Divide by 2 to get MWh\n",
    "df.loc[:,'scadavalue'] = df['scadavalue']/2\n",
    "# Calculate average per day\n",
    "df = df.groupby(['region'])['scadavalue'].resample('D').sum().reset_index() \n",
    "df['fuel'] = 'solar_rooftop'\n"
   ]
  },
  {
   "cell_type": "markdown",
   "metadata": {},
   "source": [
    "### Merge all data"
   ]
  },
  {
   "cell_type": "code",
   "execution_count": 27,
   "metadata": {},
   "outputs": [],
   "source": [
    "# Merge dispatch data\n",
    "final = pd.read_csv('data/dispatch.csv')\n",
    "# Remove battery charging and NaN values (81518 none with scada value = 0, battery charging - 1722 rows)\n",
    "final = final[~final.fuel.isin(['none', 'battery_charging'])]\n",
    "final = final[final.region.isin(['NSW1','QLD1', 'SA1','VIC1', 'TAS1'])]\n",
    "final['datetime'] = pd.to_datetime(final['datetime'], errors='coerce')\n",
    "\n",
    "# Change black coal to brown coal and add solar rooftop (fixed in DUID file)\n",
    "# final.loc[(final.region=='SA1') & (final.fuel=='blackcoal'), 'fuel'] = 'browncoal'\n",
    "final = pd.concat([final, df])\n",
    "final = final.drop_duplicates()\n",
    "final = final.sort_values(by=['region', 'fuel', 'datetime'])\n",
    "final = final.groupby(['region', 'fuel', 'datetime']).sum().reset_index()\n",
    "\n",
    "\n",
    "demand = pd.read_csv('data/demand.csv')\n",
    "demand['datetime'] = pd.to_datetime(demand['datetime'])\n",
    "\n",
    "price = pd.read_csv('data/trading_price.csv')\n",
    "price['datetime'] = pd.to_datetime(price['datetime'])\n",
    "\n",
    "# Merge demand and price\n",
    "demand = pd.merge(demand, price, on=['datetime', 'region'], suffixes=(False, False), how='inner')"
   ]
  },
  {
   "cell_type": "code",
   "execution_count": 28,
   "metadata": {},
   "outputs": [],
   "source": [
    "energy_profile = ['blackcoal', 'diesel', 'gas', 'hydro', 'kerosene', 'wind',\n",
    "               'bagasse', 'browncoal', 'solar', 'solar_rooftop', 'battery_discharging']"
   ]
  },
  {
   "cell_type": "code",
   "execution_count": 30,
   "metadata": {},
   "outputs": [],
   "source": [
    "nem_data = final.pivot(index=['region','datetime'], columns='fuel', values='scadavalue')\n",
    "nem_data = nem_data.reset_index()\n",
    "nem_data = pd.merge(nem_data, demand, on=['datetime', 'region'], suffixes=(False, False), how='inner')\n",
    "nem_data['year'] = nem_data.datetime.dt.year\n",
    "nem_data = nem_data.fillna(0)\n",
    "nem_data['totalg'] = nem_data[energy_profile].sum(axis = 1, skipna = True) \n",
    "nem_data['demand'] = nem_data['demand'] + nem_data['solar_rooftop']\n",
    "#nem_data.loc[(nem_data.datetime.dt.date == datetime.date(2016, 11, 18))]['solar']\n",
    "\n",
    "# Create net import, export columns\n",
    "nem_data['net_import'] = nem_data['demand'] - nem_data['totalg']\n",
    "nem_data.loc[nem_data['net_import'] < 0, 'net_import'] = 0\n",
    "nem_data['export'] = nem_data['totalg'] - nem_data['demand']\n",
    "nem_data.loc[nem_data['export'] < 0, 'export'] = 0\n",
    "\n",
    "# Total energy = total generated power + import\n",
    "nem_data['total'] = nem_data['totalg'] + nem_data['net_import']\n",
    "\n",
    "nem_data.to_csv('data/nem_data_raw.csv', index = False)"
   ]
  },
  {
   "cell_type": "code",
   "execution_count": 32,
   "metadata": {},
   "outputs": [],
   "source": [
    "# Convert columns as percentage of total energy\n",
    "nem_data[energy_profile] = nem_data[energy_profile].div(nem_data['total'].values, axis = 0) * 100\n",
    "nem_data['net_import'] = nem_data['net_import'].div(nem_data['total'].values, axis = 0) * 100\n",
    "nem_data.to_csv('data/nem_data.csv', index = False)"
   ]
  },
  {
   "cell_type": "code",
   "execution_count": 33,
   "metadata": {},
   "outputs": [
    {
     "data": {
      "text/html": [
       "<div>\n",
       "<style scoped>\n",
       "    .dataframe tbody tr th:only-of-type {\n",
       "        vertical-align: middle;\n",
       "    }\n",
       "\n",
       "    .dataframe tbody tr th {\n",
       "        vertical-align: top;\n",
       "    }\n",
       "\n",
       "    .dataframe thead th {\n",
       "        text-align: right;\n",
       "    }\n",
       "</style>\n",
       "<table border=\"1\" class=\"dataframe\">\n",
       "  <thead>\n",
       "    <tr style=\"text-align: right;\">\n",
       "      <th></th>\n",
       "      <th>region</th>\n",
       "      <th>datetime</th>\n",
       "      <th>bagasse</th>\n",
       "      <th>battery_discharging</th>\n",
       "      <th>blackcoal</th>\n",
       "      <th>browncoal</th>\n",
       "      <th>diesel</th>\n",
       "      <th>gas</th>\n",
       "      <th>hydro</th>\n",
       "      <th>kerosene</th>\n",
       "      <th>solar</th>\n",
       "      <th>solar_rooftop</th>\n",
       "      <th>wind</th>\n",
       "      <th>demand</th>\n",
       "      <th>rrp</th>\n",
       "      <th>year</th>\n",
       "      <th>totalg</th>\n",
       "      <th>net_import</th>\n",
       "      <th>export</th>\n",
       "      <th>total</th>\n",
       "    </tr>\n",
       "  </thead>\n",
       "  <tbody>\n",
       "    <tr>\n",
       "      <th>0</th>\n",
       "      <td>NSW1</td>\n",
       "      <td>2010-11-01</td>\n",
       "      <td>0.0</td>\n",
       "      <td>0.0</td>\n",
       "      <td>63.947452</td>\n",
       "      <td>0.0</td>\n",
       "      <td>0.0</td>\n",
       "      <td>7.772444</td>\n",
       "      <td>9.762840</td>\n",
       "      <td>0.0</td>\n",
       "      <td>0.0</td>\n",
       "      <td>0.0</td>\n",
       "      <td>0.649972</td>\n",
       "      <td>200351.195</td>\n",
       "      <td>20.665106</td>\n",
       "      <td>2010</td>\n",
       "      <td>164553.862397</td>\n",
       "      <td>17.867292</td>\n",
       "      <td>0.0</td>\n",
       "      <td>200351.195</td>\n",
       "    </tr>\n",
       "    <tr>\n",
       "      <th>1</th>\n",
       "      <td>NSW1</td>\n",
       "      <td>2010-11-02</td>\n",
       "      <td>0.0</td>\n",
       "      <td>0.0</td>\n",
       "      <td>69.289126</td>\n",
       "      <td>0.0</td>\n",
       "      <td>0.0</td>\n",
       "      <td>7.226918</td>\n",
       "      <td>3.376892</td>\n",
       "      <td>0.0</td>\n",
       "      <td>0.0</td>\n",
       "      <td>0.0</td>\n",
       "      <td>0.356034</td>\n",
       "      <td>201191.970</td>\n",
       "      <td>23.179583</td>\n",
       "      <td>2010</td>\n",
       "      <td>161454.483682</td>\n",
       "      <td>19.751030</td>\n",
       "      <td>0.0</td>\n",
       "      <td>201191.970</td>\n",
       "    </tr>\n",
       "    <tr>\n",
       "      <th>2</th>\n",
       "      <td>NSW1</td>\n",
       "      <td>2010-11-03</td>\n",
       "      <td>0.0</td>\n",
       "      <td>0.0</td>\n",
       "      <td>69.088809</td>\n",
       "      <td>0.0</td>\n",
       "      <td>0.0</td>\n",
       "      <td>7.314797</td>\n",
       "      <td>2.188212</td>\n",
       "      <td>0.0</td>\n",
       "      <td>0.0</td>\n",
       "      <td>0.0</td>\n",
       "      <td>0.555970</td>\n",
       "      <td>201055.135</td>\n",
       "      <td>22.988125</td>\n",
       "      <td>2010</td>\n",
       "      <td>159130.691298</td>\n",
       "      <td>20.852212</td>\n",
       "      <td>0.0</td>\n",
       "      <td>201055.135</td>\n",
       "    </tr>\n",
       "    <tr>\n",
       "      <th>3</th>\n",
       "      <td>NSW1</td>\n",
       "      <td>2010-11-04</td>\n",
       "      <td>0.0</td>\n",
       "      <td>0.0</td>\n",
       "      <td>68.617745</td>\n",
       "      <td>0.0</td>\n",
       "      <td>0.0</td>\n",
       "      <td>7.649918</td>\n",
       "      <td>3.384328</td>\n",
       "      <td>0.0</td>\n",
       "      <td>0.0</td>\n",
       "      <td>0.0</td>\n",
       "      <td>1.209089</td>\n",
       "      <td>203654.485</td>\n",
       "      <td>22.688125</td>\n",
       "      <td>2010</td>\n",
       "      <td>164677.215449</td>\n",
       "      <td>19.138920</td>\n",
       "      <td>0.0</td>\n",
       "      <td>203654.485</td>\n",
       "    </tr>\n",
       "    <tr>\n",
       "      <th>4</th>\n",
       "      <td>NSW1</td>\n",
       "      <td>2010-11-05</td>\n",
       "      <td>0.0</td>\n",
       "      <td>0.0</td>\n",
       "      <td>69.005714</td>\n",
       "      <td>0.0</td>\n",
       "      <td>0.0</td>\n",
       "      <td>6.664182</td>\n",
       "      <td>4.018449</td>\n",
       "      <td>0.0</td>\n",
       "      <td>0.0</td>\n",
       "      <td>0.0</td>\n",
       "      <td>1.129480</td>\n",
       "      <td>203099.510</td>\n",
       "      <td>23.607917</td>\n",
       "      <td>2010</td>\n",
       "      <td>164140.603837</td>\n",
       "      <td>19.182176</td>\n",
       "      <td>0.0</td>\n",
       "      <td>203099.510</td>\n",
       "    </tr>\n",
       "  </tbody>\n",
       "</table>\n",
       "</div>"
      ],
      "text/plain": [
       "  region   datetime  bagasse  battery_discharging  blackcoal  browncoal  \\\n",
       "0   NSW1 2010-11-01      0.0                  0.0  63.947452        0.0   \n",
       "1   NSW1 2010-11-02      0.0                  0.0  69.289126        0.0   \n",
       "2   NSW1 2010-11-03      0.0                  0.0  69.088809        0.0   \n",
       "3   NSW1 2010-11-04      0.0                  0.0  68.617745        0.0   \n",
       "4   NSW1 2010-11-05      0.0                  0.0  69.005714        0.0   \n",
       "\n",
       "   diesel       gas     hydro  kerosene  solar  solar_rooftop      wind  \\\n",
       "0     0.0  7.772444  9.762840       0.0    0.0            0.0  0.649972   \n",
       "1     0.0  7.226918  3.376892       0.0    0.0            0.0  0.356034   \n",
       "2     0.0  7.314797  2.188212       0.0    0.0            0.0  0.555970   \n",
       "3     0.0  7.649918  3.384328       0.0    0.0            0.0  1.209089   \n",
       "4     0.0  6.664182  4.018449       0.0    0.0            0.0  1.129480   \n",
       "\n",
       "       demand        rrp  year         totalg  net_import  export       total  \n",
       "0  200351.195  20.665106  2010  164553.862397   17.867292     0.0  200351.195  \n",
       "1  201191.970  23.179583  2010  161454.483682   19.751030     0.0  201191.970  \n",
       "2  201055.135  22.988125  2010  159130.691298   20.852212     0.0  201055.135  \n",
       "3  203654.485  22.688125  2010  164677.215449   19.138920     0.0  203654.485  \n",
       "4  203099.510  23.607917  2010  164140.603837   19.182176     0.0  203099.510  "
      ]
     },
     "execution_count": 33,
     "metadata": {},
     "output_type": "execute_result"
    }
   ],
   "source": [
    "nem_data.head()"
   ]
  },
  {
   "cell_type": "code",
   "execution_count": 34,
   "metadata": {},
   "outputs": [],
   "source": [
    "nem_data = pd.read_csv('data/nem_data.csv')\n",
    "nem_data['datetime'] = pd.to_datetime(nem_data['datetime'])\n",
    "nem_data['year'] = nem_data.datetime.dt.year\n",
    "energy_profile = ['blackcoal','browncoal', 'diesel', 'kerosene', 'gas',  \n",
    "                  'wind', 'hydro', 'bagasse',  'solar', 'solar_rooftop', 'battery_discharging']"
   ]
  },
  {
   "cell_type": "markdown",
   "metadata": {},
   "source": [
    "### Display merged data"
   ]
  },
  {
   "cell_type": "code",
   "execution_count": null,
   "metadata": {},
   "outputs": [],
   "source": [
    "out = Output()\n",
    "\n",
    "def query_energy(state, energy):\n",
    "    out.clear_output()\n",
    "    plt.clf()\n",
    "    with out:\n",
    "        fig, ax = plt.subplots(1, 1, constrained_layout=True, figsize=(12, 5))\n",
    "        ax.plot(nem_data[nem_data.region == state]['datetime'], nem_data[nem_data.region == state][energy])\n",
    "        frame1 = plt.gca()\n",
    "#         frame1.axes.get_xaxis().set_ticks([])\n",
    "        ax.xaxis.set_major_locator(mdates.YearLocator())\n",
    "        ax.xaxis.set_major_formatter(mdates.DateFormatter('%Y'))\n",
    "        plt.show()\n",
    "\n",
    "def dd_state_observer(bunch):\n",
    "    query_energy(bunch.new, dd_energy.value)\n",
    "\n",
    "def dd_energy_observer(bunch):\n",
    "    query_energy(dd_state.value, bunch.new)\n",
    "    \n",
    "\n",
    "dd_state = widgets.Dropdown(options = ['NSW1', 'QLD1', 'SA1', 'VIC1','TAS1'], name='NSW1')\n",
    "dd_energy = widgets.Dropdown(options = ['blackcoal', 'diesel', 'gas', 'hydro', 'kerosene', 'wind',\n",
    "               'bagasse', 'browncoal', 'solar', 'battery_discharging', 'demand', 'rrp'])\n",
    "dd_state.observe(dd_state_observer, names='value')\n",
    "dd_energy.observe(dd_energy_observer, names='value')\n"
   ]
  },
  {
   "cell_type": "code",
   "execution_count": null,
   "metadata": {},
   "outputs": [],
   "source": [
    "display(dd_state)\n",
    "display(dd_energy)\n",
    "display(out)"
   ]
  },
  {
   "cell_type": "code",
   "execution_count": null,
   "metadata": {},
   "outputs": [],
   "source": [
    "nem_data.head()"
   ]
  },
  {
   "cell_type": "code",
   "execution_count": 35,
   "metadata": {},
   "outputs": [
    {
     "data": {
      "text/html": [
       "<div>\n",
       "<style scoped>\n",
       "    .dataframe tbody tr th:only-of-type {\n",
       "        vertical-align: middle;\n",
       "    }\n",
       "\n",
       "    .dataframe tbody tr th {\n",
       "        vertical-align: top;\n",
       "    }\n",
       "\n",
       "    .dataframe thead th {\n",
       "        text-align: right;\n",
       "    }\n",
       "</style>\n",
       "<table border=\"1\" class=\"dataframe\">\n",
       "  <thead>\n",
       "    <tr style=\"text-align: right;\">\n",
       "      <th></th>\n",
       "      <th>demand</th>\n",
       "      <th>totalg</th>\n",
       "    </tr>\n",
       "  </thead>\n",
       "  <tbody>\n",
       "    <tr>\n",
       "      <th>0</th>\n",
       "      <td>200351.195</td>\n",
       "      <td>164553.862397</td>\n",
       "    </tr>\n",
       "    <tr>\n",
       "      <th>1</th>\n",
       "      <td>201191.970</td>\n",
       "      <td>161454.483682</td>\n",
       "    </tr>\n",
       "    <tr>\n",
       "      <th>2</th>\n",
       "      <td>201055.135</td>\n",
       "      <td>159130.691298</td>\n",
       "    </tr>\n",
       "    <tr>\n",
       "      <th>3</th>\n",
       "      <td>203654.485</td>\n",
       "      <td>164677.215449</td>\n",
       "    </tr>\n",
       "    <tr>\n",
       "      <th>4</th>\n",
       "      <td>203099.510</td>\n",
       "      <td>164140.603837</td>\n",
       "    </tr>\n",
       "  </tbody>\n",
       "</table>\n",
       "</div>"
      ],
      "text/plain": [
       "       demand         totalg\n",
       "0  200351.195  164553.862397\n",
       "1  201191.970  161454.483682\n",
       "2  201055.135  159130.691298\n",
       "3  203654.485  164677.215449\n",
       "4  203099.510  164140.603837"
      ]
     },
     "execution_count": 35,
     "metadata": {},
     "output_type": "execute_result"
    }
   ],
   "source": [
    "nem_data[['demand', 'totalg']].head()"
   ]
  },
  {
   "cell_type": "code",
   "execution_count": 36,
   "metadata": {},
   "outputs": [
    {
     "data": {
      "image/png": "[encoded data removed]",
      "text/plain": [
       "<Figure size 432x288 with 1 Axes>"
      ]
     },
     "metadata": {
      "needs_background": "light"
     },
     "output_type": "display_data"
    }
   ],
   "source": [
    "plt.scatter(nem_data['demand'], nem_data['totalg'], alpha=0.5)\n",
    "plt.show()"
   ]
  },
  {
   "cell_type": "code",
   "execution_count": 37,
   "metadata": {},
   "outputs": [
    {
     "data": {
      "text/plain": [
       "100    13420\n",
       "99      4695\n",
       "Name: test, dtype: int64"
      ]
     },
     "execution_count": 37,
     "metadata": {},
     "output_type": "execute_result"
    }
   ],
   "source": [
    "nem_data['test'] = nem_data[energy_profile + ['net_import']].sum(axis = 1, skipna = True)\n",
    "nem_data['test'] = nem_data['test'].astype('int') \n",
    "nem_data['test'].value_counts()"
   ]
  },
  {
   "cell_type": "code",
   "execution_count": 38,
   "metadata": {},
   "outputs": [],
   "source": [
    "nem_data.drop(columns=['test'], inplace = True)"
   ]
  },
  {
   "cell_type": "code",
   "execution_count": 39,
   "metadata": {},
   "outputs": [],
   "source": [
    "nem_data.drop(columns=['total', 'totalg'], inplace = True)"
   ]
  },
  {
   "cell_type": "code",
   "execution_count": 40,
   "metadata": {},
   "outputs": [
    {
     "data": {
      "text/plain": [
       "Index(['region', 'datetime', 'bagasse', 'battery_discharging', 'blackcoal',\n",
       "       'browncoal', 'diesel', 'gas', 'hydro', 'kerosene', 'solar',\n",
       "       'solar_rooftop', 'wind', 'demand', 'rrp', 'year', 'net_import',\n",
       "       'export'],\n",
       "      dtype='object')"
      ]
     },
     "execution_count": 40,
     "metadata": {},
     "output_type": "execute_result"
    }
   ],
   "source": [
    "nem_data.columns"
   ]
  },
  {
   "cell_type": "code",
   "execution_count": 41,
   "metadata": {},
   "outputs": [],
   "source": [
    "# # drop redundant cols and save as train\n",
    "# nem_data = nem_data.drop(columns = energy_list)#.to_pickle('data/nem_train.pkl')\n",
    "# nem_data = nem_data.drop(columns = ['total', 'totalg','import','export', 'export_per'])\n",
    "nem_data.columns = ['state', 'datetime', 'bagasse', 'batterys', 'blackcoal',\n",
    "       'browncoal', 'diesel', 'gas', 'hydro', 'kerosene', 'solar', 'solar_rooftop', 'wind',\n",
    "       'demand', 'rrp', 'year', 'net_import', 'export']\n",
    "\n",
    "nem_data.to_pickle('data/nem_train.pkl')"
   ]
  },
  {
   "cell_type": "code",
   "execution_count": 42,
   "metadata": {},
   "outputs": [
    {
     "data": {
      "text/plain": [
       "(18115, 18)"
      ]
     },
     "execution_count": 42,
     "metadata": {},
     "output_type": "execute_result"
    }
   ],
   "source": [
    "nem_data.shape"
   ]
  },
  {
   "cell_type": "code",
   "execution_count": null,
   "metadata": {},
   "outputs": [],
   "source": []
  }
 ],
 "metadata": {
  "kernelspec": {
   "display_name": "Python 3",
   "language": "python",
   "name": "python3"
  },
  "language_info": {
   "codemirror_mode": {
    "name": "ipython",
    "version": 3
   },
   "file_extension": ".py",
   "mimetype": "text/x-python",
   "name": "python",
   "nbconvert_exporter": "python",
   "pygments_lexer": "ipython3",
   "version": "3.6.9"
  }
 },
 "nbformat": 4,
 "nbformat_minor": 4
}
